{
 "cells": [
  {
   "cell_type": "markdown",
   "metadata": {},
   "source": [
    "Apoorv Sharma\n",
    "229310356\n",
    "6E - AIML"
   ]
  },
  {
   "cell_type": "code",
   "execution_count": 2,
   "metadata": {},
   "outputs": [],
   "source": [
    "import cv2\n",
    "\n",
    "image = cv2.imread(\"cat.webp\") \n",
    "\n",
    "cv2.imshow(\"Loaded Image\", image)\n",
    "cv2.waitKey(0)\n",
    "cv2.destroyAllWindows()\n"
   ]
  },
  {
   "cell_type": "code",
   "execution_count": null,
   "metadata": {},
   "outputs": [
    {
     "name": "stdout",
     "output_type": "stream",
     "text": [
      "Image converted and saved as image_converted.jpg\n"
     ]
    }
   ],
   "source": [
    "image = cv2.imread(\"cat.webp\")\n",
    "\n",
    "output_path = \"image_converted.jpg\"\n",
    "cv2.imwrite(output_path, image)\n",
    "print(f\"Image converted and saved as {output_path}\")\n",
    "\n",
    "converted_image = cv2.imread(output_path)\n",
    "cv2.imshow(\"Converted Image\", converted_image)\n",
    "\n",
    "cv2.waitKey(0)\n",
    "cv2.destroyAllWindows()"
   ]
  },
  {
   "cell_type": "code",
   "execution_count": 3,
   "metadata": {},
   "outputs": [
    {
     "name": "stdout",
     "output_type": "stream",
     "text": [
      "Grayscale image saved as grayscale_image.jpg\n",
      "[[183 183 183 ...  66  70  72]\n",
      " [179 179 180 ...  64  67  68]\n",
      " [175 176 177 ...  63  62  61]\n",
      " ...\n",
      " [135 136 137 ... 169 169 169]\n",
      " [134 135 136 ... 168 167 167]\n",
      " [133 135 136 ... 167 166 166]]\n"
     ]
    }
   ],
   "source": [
    "image = cv2.imread(\"image_converted.jpg\") \n",
    "\n",
    "grayscale_image = cv2.cvtColor(image, cv2.COLOR_BGR2GRAY)\n",
    "    \n",
    "grayscale_path = \"grayscale_image.jpg\"\n",
    "cv2.imwrite(grayscale_path, grayscale_image)\n",
    "print(f\"Grayscale image saved as {grayscale_path}\")\n",
    "  \n",
    "cv2.imshow(\"Grayscale Image\", grayscale_image)\n",
    "print(grayscale_image)\n",
    "   \n",
    "cv2.waitKey(0)\n",
    "cv2.destroyAllWindows()\n"
   ]
  }
 ],
 "metadata": {
  "kernelspec": {
   "display_name": "Python 3",
   "language": "python",
   "name": "python3"
  },
  "language_info": {
   "codemirror_mode": {
    "name": "ipython",
    "version": 3
   },
   "file_extension": ".py",
   "mimetype": "text/x-python",
   "name": "python",
   "nbconvert_exporter": "python",
   "pygments_lexer": "ipython3",
   "version": "3.12.5"
  }
 },
 "nbformat": 4,
 "nbformat_minor": 2
}
